{
 "cells": [
  {
   "cell_type": "markdown",
   "metadata": {},
   "source": [
    "# JSON OUTPUTS ANALYZER"
   ]
  },
  {
   "cell_type": "code",
   "execution_count": 36,
   "metadata": {},
   "outputs": [],
   "source": [
    "import json\n",
    "import numpy as np\n",
    "import matplotlib.pyplot as plt"
   ]
  },
  {
   "cell_type": "code",
   "execution_count": 2,
   "metadata": {},
   "outputs": [],
   "source": [
    "with open('HRpose_danaLab_depth_simLab_depth.json') as json_file:\n",
    "    outputs = json.load(json_file)\n",
    "    "
   ]
  },
  {
   "cell_type": "code",
   "execution_count": 6,
   "metadata": {},
   "outputs": [],
   "source": [
    "preds_ori = outputs['preds_ori'] #est-ce-que les données sont toutes arrondies ??\n",
    "joints_ori = outputs['joints_ori'] #est-ce que c'est des pixels? des cm ? mm? Lama pense que c'est des coordonées locales dans un repère associé à l'image\n",
    "# ca expliquerait pourquoi on normaliserait \n",
    "l_std_ori_all = outputs['l_std_ori_all'] #longueure du segment thorax tete ? \n",
    "err_nmd = outputs['err_nmd'] #error normalised\n",
    "pck = outputs['pck']"
   ]
  },
  {
   "cell_type": "markdown",
   "metadata": {},
   "source": [
    "normaliser par un segment serait biaisé ? Il y a forcément de la variabilité ? si on prend la moyenne sur tous les patients ? \n",
    "est-ce que ca serait la taille de la tete de chaque patient ? ou plutto de tous les segments de chaque patients? oui cest ca. \n",
    "il irait prendre"
   ]
  },
  {
   "cell_type": "code",
   "execution_count": 70,
   "metadata": {},
   "outputs": [
    {
     "data": {
      "text/plain": [
       "[[45.93952178955078, 118.0008544921875],\n",
       " [45.93952178955078, 95.9224853515625],\n",
       " [45.394378662109375, 74.11669158935547],\n",
       " [60.11328887939453, 73.29898071289062],\n",
       " [58.47785186767578, 96.19506072998047],\n",
       " [59.02299880981445, 117.72827911376953],\n",
       " [45.93952178955078, 61.03321838378906],\n",
       " [36.672061920166016, 53.94633865356445],\n",
       " [41.85093688964844, 38.954856872558594],\n",
       " [63.65673065185547, 37.59199142456055],\n",
       " [69.38075256347656, 51.220611572265625],\n",
       " [57.38756561279297, 60.488075256347656],\n",
       " [51.93611526489258, 37.04684829711914],\n",
       " [51.39097213745117, 22.60051155090332]]"
      ]
     },
     "execution_count": 70,
     "metadata": {},
     "output_type": "execute_result"
    }
   ],
   "source": [
    "joints_ori[0] #pourquoi est-ce que ces valeurs sont des floats et pas des entiers (ca devrait représenter des coordonées de pixels)"
   ]
  },
  {
   "cell_type": "code",
   "execution_count": 68,
   "metadata": {},
   "outputs": [
    {
     "data": {
      "text/plain": [
       "15.01376666746408"
      ]
     },
     "execution_count": 68,
     "metadata": {},
     "output_type": "execute_result"
    }
   ],
   "source": [
    "x = np.array(joints_ori[1])\n",
    "np.linalg.norm(x[13, :] - x[12, :])"
   ]
  },
  {
   "cell_type": "code",
   "execution_count": 69,
   "metadata": {},
   "outputs": [
    {
     "data": {
      "text/plain": [
       "15.01376724243164"
      ]
     },
     "execution_count": 69,
     "metadata": {},
     "output_type": "execute_result"
    }
   ],
   "source": [
    "l_std_ori_all[1]"
   ]
  },
  {
   "cell_type": "code",
   "execution_count": 32,
   "metadata": {},
   "outputs": [
    {
     "name": "stdout",
     "output_type": "stream",
     "text": [
      "[11.85507006 13.5891919 ]\n",
      "(945, 14, 2)\n",
      "(945, 14, 2)\n",
      "(945,)\n",
      "(945, 14)\n",
      "(15, 11)\n"
     ]
    }
   ],
   "source": [
    "joints_ori_test = np.array(joints_ori[0])\n",
    "preds_ori_test = np.array(preds_ori[0])\n",
    "print(np.sqrt(sum((joints_ori_test - preds_ori_test)**2,0)))\n",
    "print(np.shape(preds_ori))\n",
    "print(np.shape(joints_ori))\n",
    "print(np.shape(l_std_ori_all))\n",
    "print(np.shape(err_nmd))\n",
    "print(np.shape(pck))"
   ]
  },
  {
   "cell_type": "code",
   "execution_count": 33,
   "metadata": {
    "scrolled": true
   },
   "outputs": [
    {
     "data": {
      "text/plain": [
       "[[0.0,\n",
       "  15.238095819950104,\n",
       "  41.16401970386505,\n",
       "  67.61904954910278,\n",
       "  80.95238208770752,\n",
       "  88.46560716629028,\n",
       "  92.27513074874878,\n",
       "  94.17989253997803,\n",
       "  94.81481313705444,\n",
       "  95.66137790679932,\n",
       "  96.61375880241394],\n",
       " [0.0,\n",
       "  12.486772239208221,\n",
       "  37.98941671848297,\n",
       "  61.58730387687683,\n",
       "  77.56613492965698,\n",
       "  87.40741014480591,\n",
       "  91.64021015167236,\n",
       "  94.60317492485046,\n",
       "  96.40211462974548,\n",
       "  97.77777791023254,\n",
       "  98.30687642097473],\n",
       " [0.0,\n",
       "  8.783068507909775,\n",
       "  27.08994746208191,\n",
       "  49.62962865829468,\n",
       "  64.33862447738647,\n",
       "  79.47089672088623,\n",
       "  86.45502924919128,\n",
       "  89.52381014823914,\n",
       "  92.9100513458252,\n",
       "  95.55555582046509,\n",
       "  96.93121910095215],\n",
       " [0.0,\n",
       "  8.994708955287933,\n",
       "  27.724868059158325,\n",
       "  48.99470806121826,\n",
       "  67.19576716423035,\n",
       "  79.36508059501648,\n",
       "  87.30158805847168,\n",
       "  90.79365134239197,\n",
       "  93.01587343215942,\n",
       "  95.13227343559265,\n",
       "  97.0370352268219],\n",
       " [0.0,\n",
       "  9.100528806447983,\n",
       "  31.216931343078613,\n",
       "  59.470897912979126,\n",
       "  78.09523940086365,\n",
       "  86.87830567359924,\n",
       "  90.58201313018799,\n",
       "  92.69841313362122,\n",
       "  95.0264573097229,\n",
       "  96.29629850387573,\n",
       "  97.24867939949036],\n",
       " [0.0,\n",
       "  13.015873730182648,\n",
       "  40.529099106788635,\n",
       "  61.58730387687683,\n",
       "  76.40211582183838,\n",
       "  84.33862328529358,\n",
       "  89.73544836044312,\n",
       "  92.48677492141724,\n",
       "  93.86243224143982,\n",
       "  94.81481313705444,\n",
       "  95.13227343559265],\n",
       " [0.0,\n",
       "  12.80423253774643,\n",
       "  36.08465492725372,\n",
       "  56.190478801727295,\n",
       "  70.2645480632782,\n",
       "  79.89417910575867,\n",
       "  84.86772775650024,\n",
       "  87.61904835700989,\n",
       "  90.37036895751953,\n",
       "  91.32274985313416,\n",
       "  91.95767045021057],\n",
       " [0.0,\n",
       "  17.142857611179352,\n",
       "  45.92592716217041,\n",
       "  65.07936716079712,\n",
       "  76.93121433258057,\n",
       "  84.65608358383179,\n",
       "  88.04233074188232,\n",
       "  90.8994734287262,\n",
       "  93.65079402923584,\n",
       "  95.13227343559265,\n",
       "  95.8730161190033],\n",
       " [0.0,\n",
       "  5.396825447678566,\n",
       "  20.952381193637848,\n",
       "  41.904762387275696,\n",
       "  62.01058030128479,\n",
       "  75.13227462768555,\n",
       "  85.07936596870422,\n",
       "  89.52381014823914,\n",
       "  93.12169551849365,\n",
       "  95.76719403266907,\n",
       "  96.82539701461792],\n",
       " [0.0,\n",
       "  4.76190485060215,\n",
       "  24.550265073776245,\n",
       "  50.47619342803955,\n",
       "  67.61904954910278,\n",
       "  79.47089672088623,\n",
       "  86.87830567359924,\n",
       "  89.73544836044312,\n",
       "  93.54497194290161,\n",
       "  95.34391760826111,\n",
       "  97.14285731315613],\n",
       " [0.0,\n",
       "  12.275132536888123,\n",
       "  41.16401970386505,\n",
       "  62.01058030128479,\n",
       "  75.97883343696594,\n",
       "  83.80952477455139,\n",
       "  88.46560716629028,\n",
       "  91.42857193946838,\n",
       "  93.65079402923584,\n",
       "  94.70899701118469,\n",
       "  95.44973373413086],\n",
       " [0.0,\n",
       "  12.486772239208221,\n",
       "  36.19047701358795,\n",
       "  56.613755226135254,\n",
       "  70.79365253448486,\n",
       "  77.98941731452942,\n",
       "  81.69311881065369,\n",
       "  84.33862328529358,\n",
       "  86.56084537506104,\n",
       "  88.2539689540863,\n",
       "  90.37036895751953],\n",
       " [0.0,\n",
       "  8.783068507909775,\n",
       "  30.05290925502777,\n",
       "  50.68783164024353,\n",
       "  73.75661134719849,\n",
       "  88.46560716629028,\n",
       "  93.96825432777405,\n",
       "  97.14285731315613,\n",
       "  99.04761910438538,\n",
       "  99.57671761512756,\n",
       "  99.57671761512756],\n",
       " [0.0,\n",
       "  10.158730298280716,\n",
       "  30.899471044540405,\n",
       "  47.61904776096344,\n",
       "  61.164021492004395,\n",
       "  75.97883343696594,\n",
       "  84.65608358383179,\n",
       "  90.37036895751953,\n",
       "  93.96825432777405,\n",
       "  95.66137790679932,\n",
       "  96.71957492828369],\n",
       " [0.0,\n",
       "  10.816327061276048,\n",
       "  33.68102920332462,\n",
       "  55.676495963348586,\n",
       "  71.64777284137513,\n",
       "  82.23734227032344,\n",
       "  87.97430491332565,\n",
       "  91.09599827233356,\n",
       "  93.56765313855374,\n",
       "  95.07181090224628,\n",
       "  96.08465990376848]]"
      ]
     },
     "execution_count": 33,
     "metadata": {},
     "output_type": "execute_result"
    }
   ],
   "source": [
    "pck"
   ]
  },
  {
   "cell_type": "markdown",
   "metadata": {},
   "source": [
    "# Depth"
   ]
  },
  {
   "cell_type": "code",
   "execution_count": 48,
   "metadata": {},
   "outputs": [
    {
     "data": {
      "text/plain": [
       "Text(0.5, 1.0, 'Train: danaLab/depth \\n Test: simLab/depth')"
      ]
     },
     "execution_count": 48,
     "metadata": {},
     "output_type": "execute_result"
    },
    {
     "data": {
      "image/png": "[encoded data removed]",
      "text/plain": [
       "<Figure size 432x288 with 1 Axes>"
      ]
     },
     "metadata": {
      "needs_background": "light"
     },
     "output_type": "display_data"
    }
   ],
   "source": [
    "cov_li = ['uncover', 'cover1', 'cover2']\n",
    "colors = ['r', 'b', 'g']\n",
    "fig = plt.plot()\n",
    "ticks = np.linspace(0,0.5,11) #ticks used in main\n",
    "\n",
    "for i, cov in enumerate(cov_li):\n",
    "    json_path = 'HRpose_danaLab_depth_simLab_depth_'+ cov +'.json'\n",
    "    \n",
    "    with open(json_path) as json_file:\n",
    "        outputs = json.load(json_file)\n",
    "        \n",
    "    preds_ori = outputs['preds_ori']\n",
    "    joints_ori = outputs['joints_ori']\n",
    "    l_std_ori_all = outputs['l_std_ori_all']\n",
    "    err_nmd = outputs['err_nmd']\n",
    "    pck = outputs['pck']\n",
    "    \n",
    "    global_pck = pck[-1]\n",
    "    \n",
    "    plt.plot(ticks, global_pck, color=colors[i], label = cov)\n",
    "\n",
    "plt.grid()\n",
    "plt.legend(loc = 'best')\n",
    "plt.xlabel('Normalised distance')\n",
    "plt.ylabel('Detection Rate')\n",
    "plt.title('Train: danaLab/depth \\n Test: simLab/depth')"
   ]
  },
  {
   "cell_type": "markdown",
   "metadata": {},
   "source": [
    "# IR"
   ]
  },
  {
   "cell_type": "code",
   "execution_count": 49,
   "metadata": {},
   "outputs": [
    {
     "data": {
      "text/plain": [
       "Text(0.5, 1.0, 'Train: danaLab/IR \\n Test: simLab/IR')"
      ]
     },
     "execution_count": 49,
     "metadata": {},
     "output_type": "execute_result"
    },
    {
     "data": {
      "image/png": "[encoded data removed]",
      "text/plain": [
       "<Figure size 432x288 with 1 Axes>"
      ]
     },
     "metadata": {
      "needs_background": "light"
     },
     "output_type": "display_data"
    }
   ],
   "source": [
    "cov_li = ['uncover', 'cover1', 'cover2']\n",
    "colors = ['r', 'b', 'g']\n",
    "fig = plt.plot()\n",
    "ticks = np.linspace(0,0.5,11) #ticks used in main\n",
    "\n",
    "for i, cov in enumerate(cov_li):\n",
    "    json_path = 'HRpose_danaLab_IR_simLab_IR_'+ cov +'.json'\n",
    "    \n",
    "    with open(json_path) as json_file:\n",
    "        outputs = json.load(json_file)\n",
    "        \n",
    "    preds_ori = outputs['preds_ori']\n",
    "    joints_ori = outputs['joints_ori']\n",
    "    l_std_ori_all = outputs['l_std_ori_all']\n",
    "    err_nmd = outputs['err_nmd']\n",
    "    pck = outputs['pck']\n",
    "    \n",
    "    global_pck = pck[-1]\n",
    "    \n",
    "    plt.plot(ticks, global_pck, color=colors[i], label = cov)\n",
    "\n",
    "plt.grid()    \n",
    "plt.legend(loc = 'best')\n",
    "plt.xlabel('Normalised distance')\n",
    "plt.ylabel('Detection Rate')\n",
    "plt.title('Train: danaLab/IR \\n Test: simLab/IR')"
   ]
  },
  {
   "cell_type": "code",
   "execution_count": 53,
   "metadata": {},
   "outputs": [
    {
     "data": {
      "image/png": "[encoded data removed]",
      "text/plain": [
       "<Figure size 432x288 with 3 Axes>"
      ]
     },
     "metadata": {
      "needs_background": "light"
     },
     "output_type": "display_data"
    }
   ],
   "source": [
    "cov_li = ['uncover', 'cover1', 'cover2']\n",
    "colors = ['r', 'b', 'g']\n",
    "fig, axs = plt.subplots(1, 3)\n",
    "fig.suptitle('Comparing Depth vs IR on each cover')\n",
    "\n",
    "ticks = np.linspace(0,0.5,11) #ticks used in main\n",
    "\n",
    "for i, cov in enumerate(cov_li):\n",
    "    ax = axs[i]\n",
    "    json_path_IR = 'HRpose_danaLab_IR_simLab_IR_'+ cov +'.json'\n",
    "    json_path_depth = 'HRpose_danaLab_depth_simLab_depth_'+ cov +'.json'\n",
    "    \n",
    "    with open(json_path_IR) as json_file:\n",
    "        outputs_IR = json.load(json_file)\n",
    "    with open(json_path_depth) as json_file:\n",
    "        outputs_depth = json.load(json_file)\n",
    "        \n",
    "#     preds_ori = outputs['preds_ori']\n",
    "#     joints_ori = outputs['joints_ori']\n",
    "#     l_std_ori_all = outputs['l_std_ori_all']\n",
    "#     err_nmd = outputs['err_nmd']\n",
    "\n",
    "    pck_depth = outputs_depth['pck']\n",
    "    pck_IR = outputs_IR['pck']\n",
    "    \n",
    "    global_pck_depth = pck_depth[-1]\n",
    "    global_pck_IR = pck_IR[-1]\n",
    "    \n",
    "    ax.plot(ticks, global_pck_depth, color='r', label = 'Depth')\n",
    "    ax.plot(ticks, global_pck_IR, color='b', label = 'IR')\n",
    "    ax.set_title(cov)\n",
    "    ax.legend(loc = 'best')\n",
    "    ax.set(xlabel='Normalised distance',  ylabel = 'Detection Rate')\n",
    "\n",
    "# plt.grid()    \n",
    "# plt.legend(loc = 'best')\n",
    "# plt.xlabel('Normalised distance')\n",
    "# plt.ylabel('Detection Rate')\n",
    "# plt.title('Train: danaLab/IR \\n Test: simLab/IR')"
   ]
  },
  {
   "cell_type": "code",
   "execution_count": null,
   "metadata": {},
   "outputs": [],
   "source": []
  }
 ],
 "metadata": {
  "kernelspec": {
   "display_name": "Python 3",
   "language": "python",
   "name": "python3"
  },
  "language_info": {
   "codemirror_mode": {
    "name": "ipython",
    "version": 3
   },
   "file_extension": ".py",
   "mimetype": "text/x-python",
   "name": "python",
   "nbconvert_exporter": "python",
   "pygments_lexer": "ipython3",
   "version": "3.7.1"
  }
 },
 "nbformat": 4,
 "nbformat_minor": 4
}
